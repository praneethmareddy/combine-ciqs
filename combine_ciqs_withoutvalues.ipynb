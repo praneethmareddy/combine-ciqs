{
 "cells": [
  {
   "cell_type": "code",
   "execution_count": 1,
   "metadata": {},
   "outputs": [
    {
     "name": "stdout",
     "output_type": "stream",
     "text": [
      "Master CIQ saved to ./ciqs/master_ciq.xlsx\n"
     ]
    }
   ],
   "source": [
    "import pandas as pd\n",
    "import glob\n",
    "import os\n",
    "\n",
    "# Folder containing CIQ Excel files\n",
    "ciq_folder = \"./ciqs/\"\n",
    "\n",
    "# Get all Excel files in the folder\n",
    "ciq_files = glob.glob(os.path.join(ciq_folder, \"*.xlsx\"))\n",
    "\n",
    "# Read and merge all CIQs (values only, no column names)\n",
    "merged_df = pd.DataFrame()\n",
    "\n",
    "for file in ciq_files:\n",
    "    df = pd.read_excel(file, header=None)  # Read without column names\n",
    "    merged_df = pd.concat([merged_df, df], axis=0, ignore_index=True, sort=False)\n",
    "\n",
    "# Save the merged master CIQ\n",
    "master_ciq_path = os.path.join(ciq_folder, \"master_ciq_withoutvalues.xlsx\")\n",
    "merged_df.to_excel(master_ciq_path, index=False, header=False)  # Save without headers\n",
    "\n",
    "print(f\"Master CIQ saved to {master_ciq_path}\")\n"
   ]
  },
  {
   "cell_type": "code",
   "execution_count": null,
   "metadata": {},
   "outputs": [],
   "source": []
  }
 ],
 "metadata": {
  "kernelspec": {
   "display_name": "base",
   "language": "python",
   "name": "python3"
  },
  "language_info": {
   "codemirror_mode": {
    "name": "ipython",
    "version": 3
   },
   "file_extension": ".py",
   "mimetype": "text/x-python",
   "name": "python",
   "nbconvert_exporter": "python",
   "pygments_lexer": "ipython3",
   "version": "3.12.7"
  }
 },
 "nbformat": 4,
 "nbformat_minor": 2
}
